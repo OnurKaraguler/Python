{
 "cells": [
  {
   "cell_type": "markdown",
   "metadata": {
    "heading_collapsed": true
   },
   "source": [
    "## General Rules"
   ]
  },
  {
   "cell_type": "code",
   "execution_count": null,
   "metadata": {
    "hidden": true
   },
   "outputs": [],
   "source": [
    ".       - Any Character Except New Line\n",
    "\\d      - Digit (0-9)\n",
    "\\D      - Not a Digit (0-9)\n",
    "\\w      - Word Character (a-z, A-Z, 0-9, _)\n",
    "\\W      - Not a Word Character\n",
    "\\s      - Whitespace (space, tab, newline)\n",
    "\\S      - Not Whitespace (space, tab, newline)\n",
    "\n",
    "\\b      - Word Boundary\n",
    "\\B      - Not a Word Boundary\n",
    "^       - Beginning of a String\n",
    "$       - End of a String\n",
    "\n",
    "[]      - Matches Characters in brackets\n",
    "[^ ]    - Matches Characters NOT in brackets\n",
    "|       - Either Or\n",
    "( )     - Group\n",
    "\n",
    "Quantifiers:\n",
    "*       - 0 or More\n",
    "+       - 1 or More\n",
    "?       - 0 or One\n",
    "{3}     - Exact Number\n",
    "{3,4}   - Range of Numbers (Minimum, Maximum)\n",
    "\n",
    "\n",
    "#### Sample Regexs ####\n",
    "\n",
    "[a-zA-Z0-9_.+-]+@[a-zA-Z0-9-]+\\.[a-zA-Z0-9-.]+"
   ]
  },
  {
   "cell_type": "markdown",
   "metadata": {},
   "source": [
    "## Examples"
   ]
  },
  {
   "cell_type": "code",
   "execution_count": 39,
   "metadata": {},
   "outputs": [],
   "source": [
    "# https://www.youtube.com/watch?v=K8L6KVGG-7o&t=392s\n",
    "import re\n",
    "\n",
    "text_to_search = '''\n",
    "abcdefghijklmnopqurtuvwxyz\n",
    "ABCDEFGHIJKLMNOPQRSTUVWXYZ\n",
    "1234567890\n",
    "Ha HaHa\n",
    "MetaCharacters (Need to be escaped):\n",
    ". ^ $ * + ? { } [ ] \\ | ( )\n",
    "coreyms.com\n",
    "321-555-4321\n",
    "123.555.1234\n",
    "123*555*1234\n",
    "800-555-1234\n",
    "900-555-1234\n",
    "Mr. Schafer\n",
    "Mr Smith\n",
    "Ms Davis\n",
    "Mrs. Robinson\n",
    "Mr. T\n",
    "\n",
    "cat\n",
    "pat\n",
    "mat\n",
    "bat\n",
    "'''\n",
    "\n",
    "sentence = 'Start a sentence and then bring it to an end'"
   ]
  },
  {
   "cell_type": "markdown",
   "metadata": {
    "heading_collapsed": true
   },
   "source": [
    "### create a search pattern"
   ]
  },
  {
   "cell_type": "code",
   "execution_count": 9,
   "metadata": {
    "hidden": true
   },
   "outputs": [
    {
     "name": "stdout",
     "output_type": "stream",
     "text": [
      "<re.Match object; span=(1, 4), match='abc'>\n",
      "abc\n"
     ]
    }
   ],
   "source": [
    "pattern = re.compile(r'abc')\n",
    "matches = pattern.finditer(text_to_search)\n",
    "for match in matches:\n",
    "    print(match)\n",
    "print(text_to_search[1:4])"
   ]
  },
  {
   "cell_type": "markdown",
   "metadata": {
    "heading_collapsed": true
   },
   "source": [
    "### .       - Any Character Except New Line\n",
    "* search almost all character\n",
    "* with a backslash search all periods (/.)"
   ]
  },
  {
   "cell_type": "code",
   "execution_count": 10,
   "metadata": {
    "hidden": true
   },
   "outputs": [
    {
     "name": "stdout",
     "output_type": "stream",
     "text": [
      "<re.Match object; span=(111, 112), match='.'>\n",
      "<re.Match object; span=(146, 147), match='.'>\n",
      "<re.Match object; span=(167, 168), match='.'>\n",
      "<re.Match object; span=(171, 172), match='.'>\n",
      "<re.Match object; span=(218, 219), match='.'>\n",
      "<re.Match object; span=(249, 250), match='.'>\n",
      "<re.Match object; span=(262, 263), match='.'>\n"
     ]
    }
   ],
   "source": [
    "pattern = re.compile(r'\\.')\n",
    "matches = pattern.finditer(text_to_search)\n",
    "for match in matches:\n",
    "    print(match)"
   ]
  },
  {
   "cell_type": "code",
   "execution_count": 11,
   "metadata": {
    "hidden": true
   },
   "outputs": [
    {
     "name": "stdout",
     "output_type": "stream",
     "text": [
      "<re.Match object; span=(139, 150), match='coreyms.com'>\n"
     ]
    }
   ],
   "source": [
    "pattern = re.compile(r'coreyms\\.com')\n",
    "matches = pattern.finditer(text_to_search)\n",
    "for match in matches:\n",
    "    print(match)"
   ]
  },
  {
   "cell_type": "markdown",
   "metadata": {
    "heading_collapsed": true
   },
   "source": [
    "### \\d      - Digit (0-9)"
   ]
  },
  {
   "cell_type": "code",
   "execution_count": 14,
   "metadata": {
    "hidden": true,
    "scrolled": true
   },
   "outputs": [
    {
     "name": "stdout",
     "output_type": "stream",
     "text": [
      "<re.Match object; span=(55, 56), match='1'>\n",
      "<re.Match object; span=(56, 57), match='2'>\n",
      "<re.Match object; span=(57, 58), match='3'>\n",
      "<re.Match object; span=(58, 59), match='4'>\n",
      "<re.Match object; span=(59, 60), match='5'>\n",
      "<re.Match object; span=(60, 61), match='6'>\n",
      "<re.Match object; span=(61, 62), match='7'>\n",
      "<re.Match object; span=(62, 63), match='8'>\n",
      "<re.Match object; span=(63, 64), match='9'>\n",
      "<re.Match object; span=(64, 65), match='0'>\n",
      "<re.Match object; span=(151, 152), match='3'>\n",
      "<re.Match object; span=(152, 153), match='2'>\n",
      "<re.Match object; span=(153, 154), match='1'>\n",
      "<re.Match object; span=(155, 156), match='5'>\n",
      "<re.Match object; span=(156, 157), match='5'>\n",
      "<re.Match object; span=(157, 158), match='5'>\n",
      "<re.Match object; span=(159, 160), match='4'>\n",
      "<re.Match object; span=(160, 161), match='3'>\n",
      "<re.Match object; span=(161, 162), match='2'>\n",
      "<re.Match object; span=(162, 163), match='1'>\n",
      "<re.Match object; span=(164, 165), match='1'>\n",
      "<re.Match object; span=(165, 166), match='2'>\n",
      "<re.Match object; span=(166, 167), match='3'>\n",
      "<re.Match object; span=(168, 169), match='5'>\n",
      "<re.Match object; span=(169, 170), match='5'>\n",
      "<re.Match object; span=(170, 171), match='5'>\n",
      "<re.Match object; span=(172, 173), match='1'>\n",
      "<re.Match object; span=(173, 174), match='2'>\n",
      "<re.Match object; span=(174, 175), match='3'>\n",
      "<re.Match object; span=(175, 176), match='4'>\n",
      "<re.Match object; span=(177, 178), match='1'>\n",
      "<re.Match object; span=(178, 179), match='2'>\n",
      "<re.Match object; span=(179, 180), match='3'>\n",
      "<re.Match object; span=(181, 182), match='5'>\n",
      "<re.Match object; span=(182, 183), match='5'>\n",
      "<re.Match object; span=(183, 184), match='5'>\n",
      "<re.Match object; span=(185, 186), match='1'>\n",
      "<re.Match object; span=(186, 187), match='2'>\n",
      "<re.Match object; span=(187, 188), match='3'>\n",
      "<re.Match object; span=(188, 189), match='4'>\n",
      "<re.Match object; span=(190, 191), match='8'>\n",
      "<re.Match object; span=(191, 192), match='0'>\n",
      "<re.Match object; span=(192, 193), match='0'>\n",
      "<re.Match object; span=(194, 195), match='5'>\n",
      "<re.Match object; span=(195, 196), match='5'>\n",
      "<re.Match object; span=(196, 197), match='5'>\n",
      "<re.Match object; span=(198, 199), match='1'>\n",
      "<re.Match object; span=(199, 200), match='2'>\n",
      "<re.Match object; span=(200, 201), match='3'>\n",
      "<re.Match object; span=(201, 202), match='4'>\n",
      "<re.Match object; span=(203, 204), match='9'>\n",
      "<re.Match object; span=(204, 205), match='0'>\n",
      "<re.Match object; span=(205, 206), match='0'>\n",
      "<re.Match object; span=(207, 208), match='5'>\n",
      "<re.Match object; span=(208, 209), match='5'>\n",
      "<re.Match object; span=(209, 210), match='5'>\n",
      "<re.Match object; span=(211, 212), match='1'>\n",
      "<re.Match object; span=(212, 213), match='2'>\n",
      "<re.Match object; span=(213, 214), match='3'>\n",
      "<re.Match object; span=(214, 215), match='4'>\n"
     ]
    }
   ],
   "source": [
    "pattern = re.compile(r'\\d')\n",
    "matches = pattern.finditer(text_to_search)\n",
    "for match in matches:\n",
    "    print(match)"
   ]
  },
  {
   "cell_type": "markdown",
   "metadata": {
    "heading_collapsed": true
   },
   "source": [
    "### \\w      - Word Character (a-z, A-Z, 0-9, _)"
   ]
  },
  {
   "cell_type": "code",
   "execution_count": 15,
   "metadata": {
    "hidden": true
   },
   "outputs": [
    {
     "name": "stdout",
     "output_type": "stream",
     "text": [
      "<re.Match object; span=(1, 2), match='a'>\n",
      "<re.Match object; span=(2, 3), match='b'>\n",
      "<re.Match object; span=(3, 4), match='c'>\n",
      "<re.Match object; span=(4, 5), match='d'>\n",
      "<re.Match object; span=(5, 6), match='e'>\n",
      "<re.Match object; span=(6, 7), match='f'>\n",
      "<re.Match object; span=(7, 8), match='g'>\n",
      "<re.Match object; span=(8, 9), match='h'>\n",
      "<re.Match object; span=(9, 10), match='i'>\n",
      "<re.Match object; span=(10, 11), match='j'>\n",
      "<re.Match object; span=(11, 12), match='k'>\n",
      "<re.Match object; span=(12, 13), match='l'>\n",
      "<re.Match object; span=(13, 14), match='m'>\n",
      "<re.Match object; span=(14, 15), match='n'>\n",
      "<re.Match object; span=(15, 16), match='o'>\n",
      "<re.Match object; span=(16, 17), match='p'>\n",
      "<re.Match object; span=(17, 18), match='q'>\n",
      "<re.Match object; span=(18, 19), match='u'>\n",
      "<re.Match object; span=(19, 20), match='r'>\n",
      "<re.Match object; span=(20, 21), match='t'>\n",
      "<re.Match object; span=(21, 22), match='u'>\n",
      "<re.Match object; span=(22, 23), match='v'>\n",
      "<re.Match object; span=(23, 24), match='w'>\n",
      "<re.Match object; span=(24, 25), match='x'>\n",
      "<re.Match object; span=(25, 26), match='y'>\n",
      "<re.Match object; span=(26, 27), match='z'>\n",
      "<re.Match object; span=(28, 29), match='A'>\n",
      "<re.Match object; span=(29, 30), match='B'>\n",
      "<re.Match object; span=(30, 31), match='C'>\n",
      "<re.Match object; span=(31, 32), match='D'>\n",
      "<re.Match object; span=(32, 33), match='E'>\n",
      "<re.Match object; span=(33, 34), match='F'>\n",
      "<re.Match object; span=(34, 35), match='G'>\n",
      "<re.Match object; span=(35, 36), match='H'>\n",
      "<re.Match object; span=(36, 37), match='I'>\n",
      "<re.Match object; span=(37, 38), match='J'>\n",
      "<re.Match object; span=(38, 39), match='K'>\n",
      "<re.Match object; span=(39, 40), match='L'>\n",
      "<re.Match object; span=(40, 41), match='M'>\n",
      "<re.Match object; span=(41, 42), match='N'>\n",
      "<re.Match object; span=(42, 43), match='O'>\n",
      "<re.Match object; span=(43, 44), match='P'>\n",
      "<re.Match object; span=(44, 45), match='Q'>\n",
      "<re.Match object; span=(45, 46), match='R'>\n",
      "<re.Match object; span=(46, 47), match='S'>\n",
      "<re.Match object; span=(47, 48), match='T'>\n",
      "<re.Match object; span=(48, 49), match='U'>\n",
      "<re.Match object; span=(49, 50), match='V'>\n",
      "<re.Match object; span=(50, 51), match='W'>\n",
      "<re.Match object; span=(51, 52), match='X'>\n",
      "<re.Match object; span=(52, 53), match='Y'>\n",
      "<re.Match object; span=(53, 54), match='Z'>\n",
      "<re.Match object; span=(55, 56), match='1'>\n",
      "<re.Match object; span=(56, 57), match='2'>\n",
      "<re.Match object; span=(57, 58), match='3'>\n",
      "<re.Match object; span=(58, 59), match='4'>\n",
      "<re.Match object; span=(59, 60), match='5'>\n",
      "<re.Match object; span=(60, 61), match='6'>\n",
      "<re.Match object; span=(61, 62), match='7'>\n",
      "<re.Match object; span=(62, 63), match='8'>\n",
      "<re.Match object; span=(63, 64), match='9'>\n",
      "<re.Match object; span=(64, 65), match='0'>\n",
      "<re.Match object; span=(66, 67), match='H'>\n",
      "<re.Match object; span=(67, 68), match='a'>\n",
      "<re.Match object; span=(69, 70), match='H'>\n",
      "<re.Match object; span=(70, 71), match='a'>\n",
      "<re.Match object; span=(71, 72), match='H'>\n",
      "<re.Match object; span=(72, 73), match='a'>\n",
      "<re.Match object; span=(74, 75), match='M'>\n",
      "<re.Match object; span=(75, 76), match='e'>\n",
      "<re.Match object; span=(76, 77), match='t'>\n",
      "<re.Match object; span=(77, 78), match='a'>\n",
      "<re.Match object; span=(78, 79), match='C'>\n",
      "<re.Match object; span=(79, 80), match='h'>\n",
      "<re.Match object; span=(80, 81), match='a'>\n",
      "<re.Match object; span=(81, 82), match='r'>\n",
      "<re.Match object; span=(82, 83), match='a'>\n",
      "<re.Match object; span=(83, 84), match='c'>\n",
      "<re.Match object; span=(84, 85), match='t'>\n",
      "<re.Match object; span=(85, 86), match='e'>\n",
      "<re.Match object; span=(86, 87), match='r'>\n",
      "<re.Match object; span=(87, 88), match='s'>\n",
      "<re.Match object; span=(90, 91), match='N'>\n",
      "<re.Match object; span=(91, 92), match='e'>\n",
      "<re.Match object; span=(92, 93), match='e'>\n",
      "<re.Match object; span=(93, 94), match='d'>\n",
      "<re.Match object; span=(95, 96), match='t'>\n",
      "<re.Match object; span=(96, 97), match='o'>\n",
      "<re.Match object; span=(98, 99), match='b'>\n",
      "<re.Match object; span=(99, 100), match='e'>\n",
      "<re.Match object; span=(101, 102), match='e'>\n",
      "<re.Match object; span=(102, 103), match='s'>\n",
      "<re.Match object; span=(103, 104), match='c'>\n",
      "<re.Match object; span=(104, 105), match='a'>\n",
      "<re.Match object; span=(105, 106), match='p'>\n",
      "<re.Match object; span=(106, 107), match='e'>\n",
      "<re.Match object; span=(107, 108), match='d'>\n",
      "<re.Match object; span=(139, 140), match='c'>\n",
      "<re.Match object; span=(140, 141), match='o'>\n",
      "<re.Match object; span=(141, 142), match='r'>\n",
      "<re.Match object; span=(142, 143), match='e'>\n",
      "<re.Match object; span=(143, 144), match='y'>\n",
      "<re.Match object; span=(144, 145), match='m'>\n",
      "<re.Match object; span=(145, 146), match='s'>\n",
      "<re.Match object; span=(147, 148), match='c'>\n",
      "<re.Match object; span=(148, 149), match='o'>\n",
      "<re.Match object; span=(149, 150), match='m'>\n",
      "<re.Match object; span=(151, 152), match='3'>\n",
      "<re.Match object; span=(152, 153), match='2'>\n",
      "<re.Match object; span=(153, 154), match='1'>\n",
      "<re.Match object; span=(155, 156), match='5'>\n",
      "<re.Match object; span=(156, 157), match='5'>\n",
      "<re.Match object; span=(157, 158), match='5'>\n",
      "<re.Match object; span=(159, 160), match='4'>\n",
      "<re.Match object; span=(160, 161), match='3'>\n",
      "<re.Match object; span=(161, 162), match='2'>\n",
      "<re.Match object; span=(162, 163), match='1'>\n",
      "<re.Match object; span=(164, 165), match='1'>\n",
      "<re.Match object; span=(165, 166), match='2'>\n",
      "<re.Match object; span=(166, 167), match='3'>\n",
      "<re.Match object; span=(168, 169), match='5'>\n",
      "<re.Match object; span=(169, 170), match='5'>\n",
      "<re.Match object; span=(170, 171), match='5'>\n",
      "<re.Match object; span=(172, 173), match='1'>\n",
      "<re.Match object; span=(173, 174), match='2'>\n",
      "<re.Match object; span=(174, 175), match='3'>\n",
      "<re.Match object; span=(175, 176), match='4'>\n",
      "<re.Match object; span=(177, 178), match='1'>\n",
      "<re.Match object; span=(178, 179), match='2'>\n",
      "<re.Match object; span=(179, 180), match='3'>\n",
      "<re.Match object; span=(181, 182), match='5'>\n",
      "<re.Match object; span=(182, 183), match='5'>\n",
      "<re.Match object; span=(183, 184), match='5'>\n",
      "<re.Match object; span=(185, 186), match='1'>\n",
      "<re.Match object; span=(186, 187), match='2'>\n",
      "<re.Match object; span=(187, 188), match='3'>\n",
      "<re.Match object; span=(188, 189), match='4'>\n",
      "<re.Match object; span=(190, 191), match='8'>\n",
      "<re.Match object; span=(191, 192), match='0'>\n",
      "<re.Match object; span=(192, 193), match='0'>\n",
      "<re.Match object; span=(194, 195), match='5'>\n",
      "<re.Match object; span=(195, 196), match='5'>\n",
      "<re.Match object; span=(196, 197), match='5'>\n",
      "<re.Match object; span=(198, 199), match='1'>\n",
      "<re.Match object; span=(199, 200), match='2'>\n",
      "<re.Match object; span=(200, 201), match='3'>\n",
      "<re.Match object; span=(201, 202), match='4'>\n",
      "<re.Match object; span=(203, 204), match='9'>\n",
      "<re.Match object; span=(204, 205), match='0'>\n",
      "<re.Match object; span=(205, 206), match='0'>\n",
      "<re.Match object; span=(207, 208), match='5'>\n",
      "<re.Match object; span=(208, 209), match='5'>\n",
      "<re.Match object; span=(209, 210), match='5'>\n",
      "<re.Match object; span=(211, 212), match='1'>\n",
      "<re.Match object; span=(212, 213), match='2'>\n",
      "<re.Match object; span=(213, 214), match='3'>\n",
      "<re.Match object; span=(214, 215), match='4'>\n",
      "<re.Match object; span=(216, 217), match='M'>\n",
      "<re.Match object; span=(217, 218), match='r'>\n",
      "<re.Match object; span=(220, 221), match='S'>\n",
      "<re.Match object; span=(221, 222), match='c'>\n",
      "<re.Match object; span=(222, 223), match='h'>\n",
      "<re.Match object; span=(223, 224), match='a'>\n",
      "<re.Match object; span=(224, 225), match='f'>\n",
      "<re.Match object; span=(225, 226), match='e'>\n",
      "<re.Match object; span=(226, 227), match='r'>\n",
      "<re.Match object; span=(228, 229), match='M'>\n",
      "<re.Match object; span=(229, 230), match='r'>\n",
      "<re.Match object; span=(231, 232), match='S'>\n",
      "<re.Match object; span=(232, 233), match='m'>\n",
      "<re.Match object; span=(233, 234), match='i'>\n",
      "<re.Match object; span=(234, 235), match='t'>\n",
      "<re.Match object; span=(235, 236), match='h'>\n",
      "<re.Match object; span=(237, 238), match='M'>\n",
      "<re.Match object; span=(238, 239), match='s'>\n",
      "<re.Match object; span=(240, 241), match='D'>\n",
      "<re.Match object; span=(241, 242), match='a'>\n",
      "<re.Match object; span=(242, 243), match='v'>\n",
      "<re.Match object; span=(243, 244), match='i'>\n",
      "<re.Match object; span=(244, 245), match='s'>\n",
      "<re.Match object; span=(246, 247), match='M'>\n",
      "<re.Match object; span=(247, 248), match='r'>\n",
      "<re.Match object; span=(248, 249), match='s'>\n",
      "<re.Match object; span=(251, 252), match='R'>\n",
      "<re.Match object; span=(252, 253), match='o'>\n",
      "<re.Match object; span=(253, 254), match='b'>\n",
      "<re.Match object; span=(254, 255), match='i'>\n",
      "<re.Match object; span=(255, 256), match='n'>\n",
      "<re.Match object; span=(256, 257), match='s'>\n",
      "<re.Match object; span=(257, 258), match='o'>\n",
      "<re.Match object; span=(258, 259), match='n'>\n",
      "<re.Match object; span=(260, 261), match='M'>\n",
      "<re.Match object; span=(261, 262), match='r'>\n",
      "<re.Match object; span=(264, 265), match='T'>\n"
     ]
    }
   ],
   "source": [
    "pattern = re.compile(r'\\w')\n",
    "matches = pattern.finditer(text_to_search)\n",
    "for match in matches:\n",
    "    print(match)"
   ]
  },
  {
   "cell_type": "markdown",
   "metadata": {
    "heading_collapsed": true
   },
   "source": [
    "### \\s      - Whitespace (space, tab, newline)"
   ]
  },
  {
   "cell_type": "code",
   "execution_count": 16,
   "metadata": {
    "hidden": true,
    "scrolled": true
   },
   "outputs": [
    {
     "name": "stdout",
     "output_type": "stream",
     "text": [
      "<re.Match object; span=(0, 1), match='\\n'>\n",
      "<re.Match object; span=(27, 28), match='\\n'>\n",
      "<re.Match object; span=(54, 55), match='\\n'>\n",
      "<re.Match object; span=(65, 66), match='\\n'>\n",
      "<re.Match object; span=(68, 69), match=' '>\n",
      "<re.Match object; span=(73, 74), match='\\n'>\n",
      "<re.Match object; span=(88, 89), match=' '>\n",
      "<re.Match object; span=(94, 95), match=' '>\n",
      "<re.Match object; span=(97, 98), match=' '>\n",
      "<re.Match object; span=(100, 101), match=' '>\n",
      "<re.Match object; span=(110, 111), match='\\n'>\n",
      "<re.Match object; span=(112, 113), match=' '>\n",
      "<re.Match object; span=(114, 115), match=' '>\n",
      "<re.Match object; span=(116, 117), match=' '>\n",
      "<re.Match object; span=(118, 119), match=' '>\n",
      "<re.Match object; span=(120, 121), match=' '>\n",
      "<re.Match object; span=(122, 123), match=' '>\n",
      "<re.Match object; span=(124, 125), match=' '>\n",
      "<re.Match object; span=(126, 127), match=' '>\n",
      "<re.Match object; span=(128, 129), match=' '>\n",
      "<re.Match object; span=(130, 131), match=' '>\n",
      "<re.Match object; span=(132, 133), match=' '>\n",
      "<re.Match object; span=(134, 135), match=' '>\n",
      "<re.Match object; span=(136, 137), match=' '>\n",
      "<re.Match object; span=(138, 139), match='\\n'>\n",
      "<re.Match object; span=(150, 151), match='\\n'>\n",
      "<re.Match object; span=(163, 164), match='\\n'>\n",
      "<re.Match object; span=(176, 177), match='\\n'>\n",
      "<re.Match object; span=(189, 190), match='\\n'>\n",
      "<re.Match object; span=(202, 203), match='\\n'>\n",
      "<re.Match object; span=(215, 216), match='\\n'>\n",
      "<re.Match object; span=(219, 220), match=' '>\n",
      "<re.Match object; span=(227, 228), match='\\n'>\n",
      "<re.Match object; span=(230, 231), match=' '>\n",
      "<re.Match object; span=(236, 237), match='\\n'>\n",
      "<re.Match object; span=(239, 240), match=' '>\n",
      "<re.Match object; span=(245, 246), match='\\n'>\n",
      "<re.Match object; span=(250, 251), match=' '>\n",
      "<re.Match object; span=(259, 260), match='\\n'>\n",
      "<re.Match object; span=(263, 264), match=' '>\n",
      "<re.Match object; span=(265, 266), match='\\n'>\n"
     ]
    }
   ],
   "source": [
    "pattern = re.compile(r'\\s')\n",
    "matches = pattern.finditer(text_to_search)\n",
    "for match in matches:\n",
    "    print(match)"
   ]
  },
  {
   "cell_type": "markdown",
   "metadata": {
    "heading_collapsed": true
   },
   "source": [
    "### \\b and \\B      - Word Boundary"
   ]
  },
  {
   "cell_type": "code",
   "execution_count": 18,
   "metadata": {
    "hidden": true,
    "scrolled": true
   },
   "outputs": [
    {
     "name": "stdout",
     "output_type": "stream",
     "text": [
      "<re.Match object; span=(66, 68), match='Ha'>\n",
      "<re.Match object; span=(69, 71), match='Ha'>\n"
     ]
    }
   ],
   "source": [
    "pattern = re.compile(r'\\bHa')\n",
    "matches = pattern.finditer(text_to_search)\n",
    "for match in matches:\n",
    "    print(match)"
   ]
  },
  {
   "cell_type": "code",
   "execution_count": 19,
   "metadata": {
    "hidden": true
   },
   "outputs": [
    {
     "name": "stdout",
     "output_type": "stream",
     "text": [
      "<re.Match object; span=(71, 73), match='Ha'>\n"
     ]
    }
   ],
   "source": [
    "pattern = re.compile(r'\\BHa')\n",
    "matches = pattern.finditer(text_to_search)\n",
    "for match in matches:\n",
    "    print(match)"
   ]
  },
  {
   "cell_type": "markdown",
   "metadata": {
    "heading_collapsed": true
   },
   "source": [
    "### ^       - Beginning of a String"
   ]
  },
  {
   "cell_type": "code",
   "execution_count": 13,
   "metadata": {
    "hidden": true
   },
   "outputs": [
    {
     "name": "stdout",
     "output_type": "stream",
     "text": [
      "<re.Match object; span=(0, 5), match='Start'>\n"
     ]
    }
   ],
   "source": [
    "pattern = re.compile(r'^Start')\n",
    "matches = pattern.finditer(sentence)\n",
    "for match in matches:\n",
    "    print(match)"
   ]
  },
  {
   "cell_type": "markdown",
   "metadata": {
    "heading_collapsed": true
   },
   "source": [
    "### $       - End of a String"
   ]
  },
  {
   "cell_type": "code",
   "execution_count": 22,
   "metadata": {
    "hidden": true
   },
   "outputs": [
    {
     "name": "stdout",
     "output_type": "stream",
     "text": [
      "<re.Match object; span=(41, 44), match='end'>\n"
     ]
    }
   ],
   "source": [
    "pattern = re.compile(r'end$')\n",
    "matches = pattern.finditer(sentence)\n",
    "for match in matches:\n",
    "    print(match)"
   ]
  },
  {
   "cell_type": "markdown",
   "metadata": {
    "heading_collapsed": true
   },
   "source": [
    "### - (dash)"
   ]
  },
  {
   "cell_type": "code",
   "execution_count": 34,
   "metadata": {
    "hidden": true,
    "scrolled": true
   },
   "outputs": [
    {
     "name": "stdout",
     "output_type": "stream",
     "text": [
      "<re.Match object; span=(55, 56), match='1'>\n",
      "<re.Match object; span=(56, 57), match='2'>\n",
      "<re.Match object; span=(57, 58), match='3'>\n",
      "<re.Match object; span=(58, 59), match='4'>\n",
      "<re.Match object; span=(59, 60), match='5'>\n",
      "<re.Match object; span=(151, 152), match='3'>\n",
      "<re.Match object; span=(152, 153), match='2'>\n",
      "<re.Match object; span=(153, 154), match='1'>\n",
      "<re.Match object; span=(155, 156), match='5'>\n",
      "<re.Match object; span=(156, 157), match='5'>\n",
      "<re.Match object; span=(157, 158), match='5'>\n",
      "<re.Match object; span=(159, 160), match='4'>\n",
      "<re.Match object; span=(160, 161), match='3'>\n",
      "<re.Match object; span=(161, 162), match='2'>\n",
      "<re.Match object; span=(162, 163), match='1'>\n",
      "<re.Match object; span=(164, 165), match='1'>\n",
      "<re.Match object; span=(165, 166), match='2'>\n",
      "<re.Match object; span=(166, 167), match='3'>\n",
      "<re.Match object; span=(168, 169), match='5'>\n",
      "<re.Match object; span=(169, 170), match='5'>\n",
      "<re.Match object; span=(170, 171), match='5'>\n",
      "<re.Match object; span=(172, 173), match='1'>\n",
      "<re.Match object; span=(173, 174), match='2'>\n",
      "<re.Match object; span=(174, 175), match='3'>\n",
      "<re.Match object; span=(175, 176), match='4'>\n",
      "<re.Match object; span=(177, 178), match='1'>\n",
      "<re.Match object; span=(178, 179), match='2'>\n",
      "<re.Match object; span=(179, 180), match='3'>\n",
      "<re.Match object; span=(181, 182), match='5'>\n",
      "<re.Match object; span=(182, 183), match='5'>\n",
      "<re.Match object; span=(183, 184), match='5'>\n",
      "<re.Match object; span=(185, 186), match='1'>\n",
      "<re.Match object; span=(186, 187), match='2'>\n",
      "<re.Match object; span=(187, 188), match='3'>\n",
      "<re.Match object; span=(188, 189), match='4'>\n",
      "<re.Match object; span=(194, 195), match='5'>\n",
      "<re.Match object; span=(195, 196), match='5'>\n",
      "<re.Match object; span=(196, 197), match='5'>\n",
      "<re.Match object; span=(198, 199), match='1'>\n",
      "<re.Match object; span=(199, 200), match='2'>\n",
      "<re.Match object; span=(200, 201), match='3'>\n",
      "<re.Match object; span=(201, 202), match='4'>\n",
      "<re.Match object; span=(207, 208), match='5'>\n",
      "<re.Match object; span=(208, 209), match='5'>\n",
      "<re.Match object; span=(209, 210), match='5'>\n",
      "<re.Match object; span=(211, 212), match='1'>\n",
      "<re.Match object; span=(212, 213), match='2'>\n",
      "<re.Match object; span=(213, 214), match='3'>\n",
      "<re.Match object; span=(214, 215), match='4'>\n"
     ]
    }
   ],
   "source": [
    "pattern = re.compile(r'[1-5]')\n",
    "matches = pattern.finditer(text_to_search)\n",
    "for match in matches:\n",
    "    print(match)"
   ]
  },
  {
   "cell_type": "code",
   "execution_count": 38,
   "metadata": {
    "hidden": true,
    "scrolled": true
   },
   "outputs": [
    {
     "name": "stdout",
     "output_type": "stream",
     "text": [
      "<re.Match object; span=(1, 2), match='a'>\n",
      "<re.Match object; span=(2, 3), match='b'>\n",
      "<re.Match object; span=(3, 4), match='c'>\n",
      "<re.Match object; span=(4, 5), match='d'>\n",
      "<re.Match object; span=(5, 6), match='e'>\n",
      "<re.Match object; span=(6, 7), match='f'>\n",
      "<re.Match object; span=(7, 8), match='g'>\n",
      "<re.Match object; span=(8, 9), match='h'>\n",
      "<re.Match object; span=(67, 68), match='a'>\n",
      "<re.Match object; span=(70, 71), match='a'>\n",
      "<re.Match object; span=(72, 73), match='a'>\n",
      "<re.Match object; span=(75, 76), match='e'>\n",
      "<re.Match object; span=(77, 78), match='a'>\n",
      "<re.Match object; span=(79, 80), match='h'>\n",
      "<re.Match object; span=(80, 81), match='a'>\n",
      "<re.Match object; span=(82, 83), match='a'>\n",
      "<re.Match object; span=(83, 84), match='c'>\n",
      "<re.Match object; span=(85, 86), match='e'>\n",
      "<re.Match object; span=(91, 92), match='e'>\n",
      "<re.Match object; span=(92, 93), match='e'>\n",
      "<re.Match object; span=(93, 94), match='d'>\n",
      "<re.Match object; span=(98, 99), match='b'>\n",
      "<re.Match object; span=(99, 100), match='e'>\n",
      "<re.Match object; span=(101, 102), match='e'>\n",
      "<re.Match object; span=(103, 104), match='c'>\n",
      "<re.Match object; span=(104, 105), match='a'>\n",
      "<re.Match object; span=(106, 107), match='e'>\n",
      "<re.Match object; span=(107, 108), match='d'>\n",
      "<re.Match object; span=(139, 140), match='c'>\n",
      "<re.Match object; span=(142, 143), match='e'>\n",
      "<re.Match object; span=(147, 148), match='c'>\n",
      "<re.Match object; span=(221, 222), match='c'>\n",
      "<re.Match object; span=(222, 223), match='h'>\n",
      "<re.Match object; span=(223, 224), match='a'>\n",
      "<re.Match object; span=(224, 225), match='f'>\n",
      "<re.Match object; span=(225, 226), match='e'>\n",
      "<re.Match object; span=(235, 236), match='h'>\n",
      "<re.Match object; span=(241, 242), match='a'>\n",
      "<re.Match object; span=(253, 254), match='b'>\n"
     ]
    }
   ],
   "source": [
    "pattern = re.compile(r'[a-h]')\n",
    "matches = pattern.finditer(text_to_search)\n",
    "for match in matches:\n",
    "    print(match)"
   ]
  },
  {
   "cell_type": "code",
   "execution_count": 36,
   "metadata": {
    "hidden": true,
    "scrolled": true
   },
   "outputs": [
    {
     "name": "stdout",
     "output_type": "stream",
     "text": [
      "<re.Match object; span=(1, 2), match='a'>\n",
      "<re.Match object; span=(2, 3), match='b'>\n",
      "<re.Match object; span=(3, 4), match='c'>\n",
      "<re.Match object; span=(4, 5), match='d'>\n",
      "<re.Match object; span=(5, 6), match='e'>\n",
      "<re.Match object; span=(6, 7), match='f'>\n",
      "<re.Match object; span=(7, 8), match='g'>\n",
      "<re.Match object; span=(8, 9), match='h'>\n",
      "<re.Match object; span=(28, 29), match='A'>\n",
      "<re.Match object; span=(29, 30), match='B'>\n",
      "<re.Match object; span=(30, 31), match='C'>\n",
      "<re.Match object; span=(31, 32), match='D'>\n",
      "<re.Match object; span=(32, 33), match='E'>\n",
      "<re.Match object; span=(33, 34), match='F'>\n",
      "<re.Match object; span=(34, 35), match='G'>\n",
      "<re.Match object; span=(35, 36), match='H'>\n",
      "<re.Match object; span=(66, 67), match='H'>\n",
      "<re.Match object; span=(67, 68), match='a'>\n",
      "<re.Match object; span=(69, 70), match='H'>\n",
      "<re.Match object; span=(70, 71), match='a'>\n",
      "<re.Match object; span=(71, 72), match='H'>\n",
      "<re.Match object; span=(72, 73), match='a'>\n",
      "<re.Match object; span=(75, 76), match='e'>\n",
      "<re.Match object; span=(77, 78), match='a'>\n",
      "<re.Match object; span=(78, 79), match='C'>\n",
      "<re.Match object; span=(79, 80), match='h'>\n",
      "<re.Match object; span=(80, 81), match='a'>\n",
      "<re.Match object; span=(82, 83), match='a'>\n",
      "<re.Match object; span=(83, 84), match='c'>\n",
      "<re.Match object; span=(85, 86), match='e'>\n",
      "<re.Match object; span=(91, 92), match='e'>\n",
      "<re.Match object; span=(92, 93), match='e'>\n",
      "<re.Match object; span=(93, 94), match='d'>\n",
      "<re.Match object; span=(98, 99), match='b'>\n",
      "<re.Match object; span=(99, 100), match='e'>\n",
      "<re.Match object; span=(101, 102), match='e'>\n",
      "<re.Match object; span=(103, 104), match='c'>\n",
      "<re.Match object; span=(104, 105), match='a'>\n",
      "<re.Match object; span=(106, 107), match='e'>\n",
      "<re.Match object; span=(107, 108), match='d'>\n",
      "<re.Match object; span=(139, 140), match='c'>\n",
      "<re.Match object; span=(142, 143), match='e'>\n",
      "<re.Match object; span=(147, 148), match='c'>\n",
      "<re.Match object; span=(221, 222), match='c'>\n",
      "<re.Match object; span=(222, 223), match='h'>\n",
      "<re.Match object; span=(223, 224), match='a'>\n",
      "<re.Match object; span=(224, 225), match='f'>\n",
      "<re.Match object; span=(225, 226), match='e'>\n",
      "<re.Match object; span=(235, 236), match='h'>\n",
      "<re.Match object; span=(240, 241), match='D'>\n",
      "<re.Match object; span=(241, 242), match='a'>\n",
      "<re.Match object; span=(253, 254), match='b'>\n"
     ]
    }
   ],
   "source": [
    "pattern = re.compile(r'[a-hA-H]')\n",
    "matches = pattern.finditer(text_to_search)\n",
    "for match in matches:\n",
    "    print(match)"
   ]
  },
  {
   "cell_type": "markdown",
   "metadata": {
    "heading_collapsed": true
   },
   "source": [
    "### - (dash) and ^ "
   ]
  },
  {
   "cell_type": "code",
   "execution_count": 40,
   "metadata": {
    "hidden": true
   },
   "outputs": [
    {
     "name": "stdout",
     "output_type": "stream",
     "text": [
      "<re.Match object; span=(267, 270), match='cat'>\n",
      "<re.Match object; span=(271, 274), match='pat'>\n",
      "<re.Match object; span=(275, 278), match='mat'>\n"
     ]
    }
   ],
   "source": [
    "pattern = re.compile(r'[^b]at')\n",
    "matches = pattern.finditer(text_to_search)\n",
    "for match in matches:\n",
    "    print(match)"
   ]
  },
  {
   "cell_type": "markdown",
   "metadata": {
    "heading_collapsed": true
   },
   "source": [
    "### *       - 0 or More"
   ]
  },
  {
   "cell_type": "code",
   "execution_count": 41,
   "metadata": {
    "hidden": true
   },
   "outputs": [
    {
     "name": "stdout",
     "output_type": "stream",
     "text": [
      "<re.Match object; span=(151, 163), match='321-555-4321'>\n",
      "<re.Match object; span=(164, 176), match='123.555.1234'>\n",
      "<re.Match object; span=(177, 189), match='123*555*1234'>\n",
      "<re.Match object; span=(190, 202), match='800-555-1234'>\n",
      "<re.Match object; span=(203, 215), match='900-555-1234'>\n"
     ]
    }
   ],
   "source": [
    "pattern = re.compile(r'\\d{3}.\\d{3}.\\d{4}')\n",
    "matches = pattern.finditer(text_to_search)\n",
    "for match in matches:\n",
    "    print(match)"
   ]
  },
  {
   "cell_type": "markdown",
   "metadata": {},
   "source": [
    "### ?       - 0 or One"
   ]
  },
  {
   "cell_type": "code",
   "execution_count": 46,
   "metadata": {},
   "outputs": [
    {
     "name": "stdout",
     "output_type": "stream",
     "text": [
      "<re.Match object; span=(216, 227), match='Mr. Schafer'>\n",
      "<re.Match object; span=(228, 236), match='Mr Smith'>\n",
      "<re.Match object; span=(260, 265), match='Mr. T'>\n"
     ]
    }
   ],
   "source": [
    "pattern = re.compile(r'Mr\\.?\\s[A-Z]\\w*')\n",
    "matches = pattern.finditer(text_to_search)\n",
    "for match in matches:\n",
    "    print(match)"
   ]
  },
  {
   "cell_type": "markdown",
   "metadata": {},
   "source": [
    "### |       - Either Or"
   ]
  },
  {
   "cell_type": "code",
   "execution_count": 50,
   "metadata": {},
   "outputs": [
    {
     "name": "stdout",
     "output_type": "stream",
     "text": [
      "<re.Match object; span=(216, 227), match='Mr. Schafer'>\n",
      "<re.Match object; span=(228, 236), match='Mr Smith'>\n",
      "<re.Match object; span=(237, 245), match='Ms Davis'>\n",
      "<re.Match object; span=(246, 259), match='Mrs. Robinson'>\n",
      "<re.Match object; span=(260, 265), match='Mr. T'>\n"
     ]
    }
   ],
   "source": [
    "pattern = re.compile(r'M(r|s|rs)\\.?\\s[A-Z]\\w*')\n",
    "matches = pattern.finditer(text_to_search)\n",
    "for match in matches:\n",
    "    print(match)"
   ]
  },
  {
   "cell_type": "markdown",
   "metadata": {},
   "source": [
    "### findall"
   ]
  },
  {
   "cell_type": "code",
   "execution_count": 80,
   "metadata": {
    "scrolled": true
   },
   "outputs": [
    {
     "name": "stdout",
     "output_type": "stream",
     "text": [
      "Mr\n",
      "Mr\n",
      "Ms\n",
      "Mrs\n",
      "Mr\n"
     ]
    }
   ],
   "source": [
    "pattern = re.compile(r'(Mr|Ms|Mrs)\\.?\\s[A-Z]\\w*')\n",
    "matches = pattern.findall(text_to_search)\n",
    "for match in matches:\n",
    "    print(match)"
   ]
  },
  {
   "cell_type": "markdown",
   "metadata": {},
   "source": [
    "### search"
   ]
  },
  {
   "cell_type": "code",
   "execution_count": 84,
   "metadata": {},
   "outputs": [
    {
     "name": "stdout",
     "output_type": "stream",
     "text": [
      "<re.Match object; span=(8, 16), match='sentence'>\n"
     ]
    }
   ],
   "source": [
    "pattern = re.compile(r'sentence', re.IGNORECASE)   # re.I works as well (flags)\n",
    "matches = pattern.search(sentence)\n",
    "print(matches)"
   ]
  },
  {
   "cell_type": "markdown",
   "metadata": {
    "heading_collapsed": true
   },
   "source": [
    "## Matching phone numbers"
   ]
  },
  {
   "cell_type": "code",
   "execution_count": 24,
   "metadata": {
    "hidden": true
   },
   "outputs": [
    {
     "name": "stdout",
     "output_type": "stream",
     "text": [
      "<re.Match object; span=(151, 162), match='321-555-432'>\n",
      "<re.Match object; span=(164, 175), match='123.555.123'>\n",
      "<re.Match object; span=(177, 188), match='123*555*123'>\n",
      "<re.Match object; span=(190, 201), match='800-555-123'>\n",
      "<re.Match object; span=(203, 214), match='900-555-123'>\n"
     ]
    }
   ],
   "source": [
    "pattern = re.compile(r'\\d\\d\\d.\\d\\d\\d.\\d\\d\\d')\n",
    "matches = pattern.finditer(text_to_search)\n",
    "for match in matches:\n",
    "    print(match)"
   ]
  },
  {
   "cell_type": "code",
   "execution_count": 29,
   "metadata": {
    "hidden": true
   },
   "outputs": [
    {
     "name": "stdout",
     "output_type": "stream",
     "text": [
      "<re.Match object; span=(151, 162), match='321-555-432'>\n",
      "<re.Match object; span=(164, 175), match='123.555.123'>\n",
      "<re.Match object; span=(190, 201), match='800-555-123'>\n",
      "<re.Match object; span=(203, 214), match='900-555-123'>\n"
     ]
    }
   ],
   "source": [
    "pattern = re.compile(r'\\d\\d\\d[-.]\\d\\d\\d[-.]\\d\\d\\d')\n",
    "matches = pattern.finditer(text_to_search)\n",
    "for match in matches:\n",
    "    print(match)"
   ]
  },
  {
   "cell_type": "code",
   "execution_count": 32,
   "metadata": {
    "hidden": true
   },
   "outputs": [
    {
     "name": "stdout",
     "output_type": "stream",
     "text": [
      "<re.Match object; span=(190, 201), match='800-555-123'>\n",
      "<re.Match object; span=(203, 214), match='900-555-123'>\n"
     ]
    }
   ],
   "source": [
    "pattern = re.compile(r'[89]00[-.]\\d\\d\\d[-.]\\d\\d\\d')\n",
    "matches = pattern.finditer(text_to_search)\n",
    "for match in matches:\n",
    "    print(match)"
   ]
  },
  {
   "cell_type": "code",
   "execution_count": 27,
   "metadata": {
    "hidden": true
   },
   "outputs": [],
   "source": [
    "with open ('data.txt', 'r', encoding='utf-8') as f:\n",
    "    contents = f.read()"
   ]
  },
  {
   "cell_type": "code",
   "execution_count": 28,
   "metadata": {
    "hidden": true,
    "scrolled": true
   },
   "outputs": [
    {
     "name": "stdout",
     "output_type": "stream",
     "text": [
      "<re.Match object; span=(12, 23), match='615-555-716'>\n",
      "<re.Match object; span=(102, 113), match='800-555-566'>\n",
      "<re.Match object; span=(191, 202), match='560-555-515'>\n",
      "<re.Match object; span=(281, 292), match='900-555-934'>\n",
      "<re.Match object; span=(378, 389), match='714-555-740'>\n",
      "<re.Match object; span=(467, 478), match='800-555-677'>\n",
      "<re.Match object; span=(557, 568), match='783-555-479'>\n",
      "<re.Match object; span=(647, 658), match='516-555-461'>\n",
      "<re.Match object; span=(740, 751), match='127-555-186'>\n",
      "<re.Match object; span=(829, 840), match='608-555-493'>\n",
      "<re.Match object; span=(915, 926), match='568-555-605'>\n",
      "<re.Match object; span=(1003, 1014), match='292-555-187'>\n",
      "<re.Match object; span=(1091, 1102), match='900-555-320'>\n",
      "<re.Match object; span=(1180, 1191), match='614-555-116'>\n",
      "<re.Match object; span=(1269, 1280), match='530-555-267'>\n",
      "<re.Match object; span=(1355, 1366), match='470-555-275'>\n",
      "<re.Match object; span=(1439, 1450), match='800-555-608'>\n",
      "<re.Match object; span=(1526, 1537), match='880-555-831'>\n",
      "<re.Match object; span=(1614, 1625), match='777-555-837'>\n",
      "<re.Match object; span=(1697, 1708), match='998-555-738'>\n",
      "<re.Match object; span=(1790, 1801), match='800-555-710'>\n",
      "<re.Match object; span=(1874, 1885), match='903-555-827'>\n",
      "<re.Match object; span=(1962, 1973), match='196-555-567'>\n",
      "<re.Match object; span=(2051, 2062), match='900-555-511'>\n",
      "<re.Match object; span=(2135, 2146), match='905-555-163'>\n",
      "<re.Match object; span=(2216, 2227), match='203-555-347'>\n",
      "<re.Match object; span=(2300, 2311), match='884-555-844'>\n",
      "<re.Match object; span=(2387, 2398), match='904-555-855'>\n",
      "<re.Match object; span=(2475, 2486), match='889-555-739'>\n",
      "<re.Match object; span=(2562, 2573), match='195-555-240'>\n",
      "<re.Match object; span=(2647, 2658), match='321-555-905'>\n",
      "<re.Match object; span=(2734, 2745), match='133-555-171'>\n",
      "<re.Match object; span=(2826, 2837), match='900-555-542'>\n",
      "<re.Match object; span=(2915, 2926), match='760-555-714'>\n",
      "<re.Match object; span=(3012, 3023), match='391-555-662'>\n",
      "<re.Match object; span=(3103, 3114), match='932-555-772'>\n",
      "<re.Match object; span=(3192, 3203), match='609-555-790'>\n",
      "<re.Match object; span=(3284, 3295), match='800-555-881'>\n",
      "<re.Match object; span=(3372, 3383), match='149-555-765'>\n",
      "<re.Match object; span=(3452, 3463), match='130-555-970'>\n",
      "<re.Match object; span=(3535, 3546), match='143-555-929'>\n",
      "<re.Match object; span=(3624, 3635), match='903-555-987'>\n",
      "<re.Match object; span=(3714, 3725), match='574-555-319'>\n",
      "<re.Match object; span=(3802, 3813), match='496-555-753'>\n",
      "<re.Match object; span=(3887, 3898), match='210-555-375'>\n",
      "<re.Match object; span=(3971, 3982), match='900-555-959'>\n",
      "<re.Match object; span=(4056, 4067), match='866-555-984'>\n",
      "<re.Match object; span=(4140, 4151), match='669-555-715'>\n",
      "<re.Match object; span=(4225, 4236), match='152-555-741'>\n",
      "<re.Match object; span=(4317, 4328), match='893-555-983'>\n",
      "<re.Match object; span=(4407, 4418), match='217-555-712'>\n",
      "<re.Match object; span=(4498, 4509), match='786-555-654'>\n",
      "<re.Match object; span=(4588, 4599), match='780-555-257'>\n",
      "<re.Match object; span=(4676, 4687), match='926-555-873'>\n",
      "<re.Match object; span=(4762, 4773), match='895-555-353'>\n",
      "<re.Match object; span=(4859, 4870), match='874-555-394'>\n",
      "<re.Match object; span=(4945, 4956), match='800-555-242'>\n",
      "<re.Match object; span=(5034, 5045), match='936-555-634'>\n",
      "<re.Match object; span=(5123, 5134), match='372-555-980'>\n",
      "<re.Match object; span=(5210, 5221), match='890-555-561'>\n",
      "<re.Match object; span=(5292, 5303), match='670-555-300'>\n",
      "<re.Match object; span=(5382, 5393), match='509-555-599'>\n",
      "<re.Match object; span=(5475, 5486), match='721-555-563'>\n",
      "<re.Match object; span=(5566, 5577), match='900-555-356'>\n",
      "<re.Match object; span=(5656, 5667), match='147-555-683'>\n",
      "<re.Match object; span=(5745, 5756), match='582-555-342'>\n",
      "<re.Match object; span=(5830, 5841), match='400-555-170'>\n",
      "<re.Match object; span=(5921, 5932), match='525-555-179'>\n",
      "<re.Match object; span=(6011, 6022), match='317-555-670'>\n",
      "<re.Match object; span=(6099, 6110), match='974-555-830'>\n",
      "<re.Match object; span=(6189, 6200), match='800-555-321'>\n",
      "<re.Match object; span=(6273, 6284), match='746-555-409'>\n",
      "<re.Match object; span=(6360, 6371), match='922-555-177'>\n",
      "<re.Match object; span=(6445, 6456), match='711-555-442'>\n",
      "<re.Match object; span=(6530, 6541), match='355-555-187'>\n",
      "<re.Match object; span=(6619, 6630), match='852-555-652'>\n",
      "<re.Match object; span=(6711, 6722), match='691-555-577'>\n",
      "<re.Match object; span=(6803, 6814), match='332-555-544'>\n",
      "<re.Match object; span=(6889, 6900), match='900-555-775'>\n",
      "<re.Match object; span=(6971, 6982), match='379-555-368'>\n",
      "<re.Match object; span=(7061, 7072), match='127-555-968'>\n",
      "<re.Match object; span=(7152, 7163), match='789-555-703'>\n",
      "<re.Match object; span=(7243, 7254), match='783-555-513'>\n",
      "<re.Match object; span=(7336, 7347), match='315-555-650'>\n",
      "<re.Match object; span=(7427, 7438), match='481-555-583'>\n",
      "<re.Match object; span=(7515, 7526), match='365-555-828'>\n",
      "<re.Match object; span=(7607, 7618), match='911-555-753'>\n",
      "<re.Match object; span=(7693, 7704), match='681-555-246'>\n",
      "<re.Match object; span=(7779, 7790), match='274-555-980'>\n",
      "<re.Match object; span=(7864, 7875), match='800-555-137'>\n",
      "<re.Match object; span=(7953, 7964), match='300-555-782'>\n",
      "<re.Match object; span=(8043, 8054), match='133-555-388'>\n",
      "<re.Match object; span=(8129, 8140), match='705-555-686'>\n",
      "<re.Match object; span=(8218, 8229), match='215-555-944'>\n",
      "<re.Match object; span=(8309, 8320), match='988-555-611'>\n",
      "<re.Match object; span=(8395, 8406), match='623-555-300'>\n",
      "<re.Match object; span=(8479, 8490), match='192-555-497'>\n",
      "<re.Match object; span=(8564, 8575), match='178-555-489'>\n",
      "<re.Match object; span=(8648, 8659), match='952-555-308'>\n",
      "<re.Match object; span=(8741, 8752), match='900-555-642'>\n"
     ]
    }
   ],
   "source": [
    "pattern = re.compile(r'\\d\\d\\d.\\d\\d\\d.\\d\\d\\d')\n",
    "matches = pattern.finditer(contents)\n",
    "for match in matches:\n",
    "    print(match)"
   ]
  },
  {
   "cell_type": "code",
   "execution_count": 42,
   "metadata": {
    "hidden": true,
    "scrolled": true
   },
   "outputs": [
    {
     "name": "stdout",
     "output_type": "stream",
     "text": [
      "<re.Match object; span=(12, 23), match='615-555-716'>\n",
      "<re.Match object; span=(102, 113), match='800-555-566'>\n",
      "<re.Match object; span=(191, 202), match='560-555-515'>\n",
      "<re.Match object; span=(281, 292), match='900-555-934'>\n",
      "<re.Match object; span=(378, 389), match='714-555-740'>\n",
      "<re.Match object; span=(467, 478), match='800-555-677'>\n",
      "<re.Match object; span=(557, 568), match='783-555-479'>\n",
      "<re.Match object; span=(647, 658), match='516-555-461'>\n",
      "<re.Match object; span=(740, 751), match='127-555-186'>\n",
      "<re.Match object; span=(829, 840), match='608-555-493'>\n",
      "<re.Match object; span=(915, 926), match='568-555-605'>\n",
      "<re.Match object; span=(1003, 1014), match='292-555-187'>\n",
      "<re.Match object; span=(1091, 1102), match='900-555-320'>\n",
      "<re.Match object; span=(1180, 1191), match='614-555-116'>\n",
      "<re.Match object; span=(1269, 1280), match='530-555-267'>\n",
      "<re.Match object; span=(1355, 1366), match='470-555-275'>\n",
      "<re.Match object; span=(1439, 1450), match='800-555-608'>\n",
      "<re.Match object; span=(1526, 1537), match='880-555-831'>\n",
      "<re.Match object; span=(1614, 1625), match='777-555-837'>\n",
      "<re.Match object; span=(1697, 1708), match='998-555-738'>\n",
      "<re.Match object; span=(1790, 1801), match='800-555-710'>\n",
      "<re.Match object; span=(1874, 1885), match='903-555-827'>\n",
      "<re.Match object; span=(1962, 1973), match='196-555-567'>\n",
      "<re.Match object; span=(2051, 2062), match='900-555-511'>\n",
      "<re.Match object; span=(2135, 2146), match='905-555-163'>\n",
      "<re.Match object; span=(2216, 2227), match='203-555-347'>\n",
      "<re.Match object; span=(2300, 2311), match='884-555-844'>\n",
      "<re.Match object; span=(2387, 2398), match='904-555-855'>\n",
      "<re.Match object; span=(2475, 2486), match='889-555-739'>\n",
      "<re.Match object; span=(2562, 2573), match='195-555-240'>\n",
      "<re.Match object; span=(2647, 2658), match='321-555-905'>\n",
      "<re.Match object; span=(2734, 2745), match='133-555-171'>\n",
      "<re.Match object; span=(2826, 2837), match='900-555-542'>\n",
      "<re.Match object; span=(2915, 2926), match='760-555-714'>\n",
      "<re.Match object; span=(3012, 3023), match='391-555-662'>\n",
      "<re.Match object; span=(3103, 3114), match='932-555-772'>\n",
      "<re.Match object; span=(3192, 3203), match='609-555-790'>\n",
      "<re.Match object; span=(3284, 3295), match='800-555-881'>\n",
      "<re.Match object; span=(3372, 3383), match='149-555-765'>\n",
      "<re.Match object; span=(3452, 3463), match='130-555-970'>\n",
      "<re.Match object; span=(3535, 3546), match='143-555-929'>\n",
      "<re.Match object; span=(3624, 3635), match='903-555-987'>\n",
      "<re.Match object; span=(3714, 3725), match='574-555-319'>\n",
      "<re.Match object; span=(3802, 3813), match='496-555-753'>\n",
      "<re.Match object; span=(3887, 3898), match='210-555-375'>\n",
      "<re.Match object; span=(3971, 3982), match='900-555-959'>\n",
      "<re.Match object; span=(4056, 4067), match='866-555-984'>\n",
      "<re.Match object; span=(4140, 4151), match='669-555-715'>\n",
      "<re.Match object; span=(4225, 4236), match='152-555-741'>\n",
      "<re.Match object; span=(4317, 4328), match='893-555-983'>\n",
      "<re.Match object; span=(4407, 4418), match='217-555-712'>\n",
      "<re.Match object; span=(4498, 4509), match='786-555-654'>\n",
      "<re.Match object; span=(4588, 4599), match='780-555-257'>\n",
      "<re.Match object; span=(4676, 4687), match='926-555-873'>\n",
      "<re.Match object; span=(4762, 4773), match='895-555-353'>\n",
      "<re.Match object; span=(4859, 4870), match='874-555-394'>\n",
      "<re.Match object; span=(4945, 4956), match='800-555-242'>\n",
      "<re.Match object; span=(5034, 5045), match='936-555-634'>\n",
      "<re.Match object; span=(5123, 5134), match='372-555-980'>\n",
      "<re.Match object; span=(5210, 5221), match='890-555-561'>\n",
      "<re.Match object; span=(5292, 5303), match='670-555-300'>\n",
      "<re.Match object; span=(5382, 5393), match='509-555-599'>\n",
      "<re.Match object; span=(5475, 5486), match='721-555-563'>\n",
      "<re.Match object; span=(5566, 5577), match='900-555-356'>\n",
      "<re.Match object; span=(5656, 5667), match='147-555-683'>\n",
      "<re.Match object; span=(5745, 5756), match='582-555-342'>\n",
      "<re.Match object; span=(5830, 5841), match='400-555-170'>\n",
      "<re.Match object; span=(5921, 5932), match='525-555-179'>\n",
      "<re.Match object; span=(6011, 6022), match='317-555-670'>\n",
      "<re.Match object; span=(6099, 6110), match='974-555-830'>\n",
      "<re.Match object; span=(6189, 6200), match='800-555-321'>\n",
      "<re.Match object; span=(6273, 6284), match='746-555-409'>\n",
      "<re.Match object; span=(6360, 6371), match='922-555-177'>\n",
      "<re.Match object; span=(6445, 6456), match='711-555-442'>\n",
      "<re.Match object; span=(6530, 6541), match='355-555-187'>\n",
      "<re.Match object; span=(6619, 6630), match='852-555-652'>\n",
      "<re.Match object; span=(6711, 6722), match='691-555-577'>\n",
      "<re.Match object; span=(6803, 6814), match='332-555-544'>\n",
      "<re.Match object; span=(6889, 6900), match='900-555-775'>\n",
      "<re.Match object; span=(6971, 6982), match='379-555-368'>\n",
      "<re.Match object; span=(7061, 7072), match='127-555-968'>\n",
      "<re.Match object; span=(7152, 7163), match='789-555-703'>\n",
      "<re.Match object; span=(7243, 7254), match='783-555-513'>\n",
      "<re.Match object; span=(7336, 7347), match='315-555-650'>\n",
      "<re.Match object; span=(7427, 7438), match='481-555-583'>\n",
      "<re.Match object; span=(7515, 7526), match='365-555-828'>\n",
      "<re.Match object; span=(7607, 7618), match='911-555-753'>\n",
      "<re.Match object; span=(7693, 7704), match='681-555-246'>\n",
      "<re.Match object; span=(7779, 7790), match='274-555-980'>\n",
      "<re.Match object; span=(7864, 7875), match='800-555-137'>\n",
      "<re.Match object; span=(7953, 7964), match='300-555-782'>\n",
      "<re.Match object; span=(8043, 8054), match='133-555-388'>\n",
      "<re.Match object; span=(8129, 8140), match='705-555-686'>\n",
      "<re.Match object; span=(8218, 8229), match='215-555-944'>\n",
      "<re.Match object; span=(8309, 8320), match='988-555-611'>\n",
      "<re.Match object; span=(8395, 8406), match='623-555-300'>\n",
      "<re.Match object; span=(8479, 8490), match='192-555-497'>\n",
      "<re.Match object; span=(8564, 8575), match='178-555-489'>\n",
      "<re.Match object; span=(8648, 8659), match='952-555-308'>\n",
      "<re.Match object; span=(8741, 8752), match='900-555-642'>\n"
     ]
    }
   ],
   "source": [
    "pattern = re.compile(r'\\d{3}.\\d{3}.\\d{3}')\n",
    "matches = pattern.finditer(contents)\n",
    "for match in matches:\n",
    "    print(match)"
   ]
  },
  {
   "cell_type": "markdown",
   "metadata": {
    "heading_collapsed": true
   },
   "source": [
    "## Matching emails"
   ]
  },
  {
   "cell_type": "code",
   "execution_count": 54,
   "metadata": {
    "hidden": true
   },
   "outputs": [],
   "source": [
    "emails = '''\n",
    "CoreyMSchafer@gmail.com\n",
    "corey.schafer@university.edu\n",
    "corey-321-schafer@my-work.net\n",
    "'''"
   ]
  },
  {
   "cell_type": "code",
   "execution_count": 62,
   "metadata": {
    "hidden": true
   },
   "outputs": [
    {
     "name": "stdout",
     "output_type": "stream",
     "text": [
      "<re.Match object; span=(1, 24), match='CoreyMSchafer@gmail.com'>\n"
     ]
    }
   ],
   "source": [
    "pattern = re.compile(r'[a-zA-Z]+@[a-zA-Z]+\\.com')\n",
    "matches = pattern.finditer(emails)\n",
    "for match in matches:\n",
    "    print(match)"
   ]
  },
  {
   "cell_type": "code",
   "execution_count": 61,
   "metadata": {
    "hidden": true
   },
   "outputs": [
    {
     "name": "stdout",
     "output_type": "stream",
     "text": [
      "<re.Match object; span=(1, 24), match='CoreyMSchafer@gmail.com'>\n",
      "<re.Match object; span=(31, 53), match='schafer@university.edu'>\n"
     ]
    }
   ],
   "source": [
    "pattern = re.compile(r'[a-zA-Z]+@[a-zA-Z]+\\.(com|edu)')\n",
    "matches = pattern.finditer(emails)\n",
    "for match in matches:\n",
    "    print(match)"
   ]
  },
  {
   "cell_type": "code",
   "execution_count": 63,
   "metadata": {
    "hidden": true
   },
   "outputs": [
    {
     "name": "stdout",
     "output_type": "stream",
     "text": [
      "<re.Match object; span=(1, 24), match='CoreyMSchafer@gmail.com'>\n",
      "<re.Match object; span=(25, 53), match='corey.schafer@university.edu'>\n",
      "<re.Match object; span=(54, 83), match='corey-321-schafer@my-work.net'>\n"
     ]
    }
   ],
   "source": [
    "pattern = re.compile(r'[a-zA-Z0-9.-]+@[a-zA-Z0-9.-]+\\.(com|edu|net)')\n",
    "matches = pattern.finditer(emails)\n",
    "for match in matches:\n",
    "    print(match)"
   ]
  },
  {
   "cell_type": "code",
   "execution_count": 64,
   "metadata": {
    "hidden": true
   },
   "outputs": [
    {
     "name": "stdout",
     "output_type": "stream",
     "text": [
      "<re.Match object; span=(1, 24), match='CoreyMSchafer@gmail.com'>\n",
      "<re.Match object; span=(25, 53), match='corey.schafer@university.edu'>\n",
      "<re.Match object; span=(54, 83), match='corey-321-schafer@my-work.net'>\n"
     ]
    }
   ],
   "source": [
    "pattern = re.compile(r'[a-zA-Z0-9.-]+@[a-zA-Z0-9.-]+\\.[a-zA-Z0-9.-]+')\n",
    "matches = pattern.finditer(emails)\n",
    "for match in matches:\n",
    "    print(match)"
   ]
  },
  {
   "cell_type": "markdown",
   "metadata": {
    "heading_collapsed": true
   },
   "source": [
    "## Matching URLs"
   ]
  },
  {
   "cell_type": "code",
   "execution_count": 68,
   "metadata": {
    "hidden": true
   },
   "outputs": [],
   "source": [
    "urls = '''\n",
    "https://www.google.com\n",
    "http://coreyms.com\n",
    "https://youtube.com\n",
    "https://www.nasa.gov\n",
    "'''"
   ]
  },
  {
   "cell_type": "code",
   "execution_count": 70,
   "metadata": {
    "hidden": true
   },
   "outputs": [
    {
     "name": "stdout",
     "output_type": "stream",
     "text": [
      "<re.Match object; span=(1, 23), match='https://www.google.com'>\n",
      "<re.Match object; span=(24, 42), match='http://coreyms.com'>\n",
      "<re.Match object; span=(43, 62), match='https://youtube.com'>\n",
      "<re.Match object; span=(63, 83), match='https://www.nasa.gov'>\n"
     ]
    }
   ],
   "source": [
    "pattern = re.compile(r'https?://(www\\.)?\\w+\\.\\w+')\n",
    "matches = pattern.finditer(urls)\n",
    "for match in matches:\n",
    "    print(match)"
   ]
  },
  {
   "cell_type": "code",
   "execution_count": 71,
   "metadata": {
    "hidden": true
   },
   "outputs": [
    {
     "name": "stdout",
     "output_type": "stream",
     "text": [
      "<re.Match object; span=(1, 23), match='https://www.google.com'>\n",
      "<re.Match object; span=(24, 42), match='http://coreyms.com'>\n",
      "<re.Match object; span=(43, 62), match='https://youtube.com'>\n",
      "<re.Match object; span=(63, 83), match='https://www.nasa.gov'>\n"
     ]
    }
   ],
   "source": [
    "pattern = re.compile(r'https?://(www\\.)?(\\w+)(\\.\\w+)')\n",
    "matches = pattern.finditer(urls)\n",
    "for match in matches:\n",
    "    print(match)"
   ]
  },
  {
   "cell_type": "code",
   "execution_count": 72,
   "metadata": {
    "hidden": true
   },
   "outputs": [
    {
     "name": "stdout",
     "output_type": "stream",
     "text": [
      "https://www.google.com\n",
      "http://coreyms.com\n",
      "https://youtube.com\n",
      "https://www.nasa.gov\n"
     ]
    }
   ],
   "source": [
    "pattern = re.compile(r'https?://(www\\.)?(\\w+)(\\.\\w+)')\n",
    "matches = pattern.finditer(urls)\n",
    "for match in matches:\n",
    "    print(match.group(0))"
   ]
  },
  {
   "cell_type": "code",
   "execution_count": 73,
   "metadata": {
    "hidden": true
   },
   "outputs": [
    {
     "name": "stdout",
     "output_type": "stream",
     "text": [
      "www.\n",
      "None\n",
      "None\n",
      "www.\n"
     ]
    }
   ],
   "source": [
    "pattern = re.compile(r'https?://(www\\.)?(\\w+)(\\.\\w+)')\n",
    "matches = pattern.finditer(urls)\n",
    "for match in matches:\n",
    "    print(match.group(1))"
   ]
  },
  {
   "cell_type": "code",
   "execution_count": 74,
   "metadata": {
    "hidden": true
   },
   "outputs": [
    {
     "name": "stdout",
     "output_type": "stream",
     "text": [
      "google\n",
      "coreyms\n",
      "youtube\n",
      "nasa\n"
     ]
    }
   ],
   "source": [
    "pattern = re.compile(r'https?://(www\\.)?(\\w+)(\\.\\w+)')\n",
    "matches = pattern.finditer(urls)\n",
    "for match in matches:\n",
    "    print(match.group(2))"
   ]
  },
  {
   "cell_type": "code",
   "execution_count": 75,
   "metadata": {
    "hidden": true
   },
   "outputs": [
    {
     "name": "stdout",
     "output_type": "stream",
     "text": [
      ".com\n",
      ".com\n",
      ".com\n",
      ".gov\n"
     ]
    }
   ],
   "source": [
    "pattern = re.compile(r'https?://(www\\.)?(\\w+)(\\.\\w+)')\n",
    "matches = pattern.finditer(urls)\n",
    "for match in matches:\n",
    "    print(match.group(3))"
   ]
  },
  {
   "cell_type": "code",
   "execution_count": 78,
   "metadata": {
    "hidden": true
   },
   "outputs": [
    {
     "name": "stdout",
     "output_type": "stream",
     "text": [
      "\n",
      "google.com\n",
      "coreyms.com\n",
      "youtube.com\n",
      "nasa.gov\n",
      "\n"
     ]
    }
   ],
   "source": [
    "subbed_url = pattern.sub(r'\\2\\3', urls)\n",
    "print(subbed_url)"
   ]
  }
 ],
 "metadata": {
  "kernelspec": {
   "display_name": "Python 3",
   "language": "python",
   "name": "python3"
  },
  "language_info": {
   "codemirror_mode": {
    "name": "ipython",
    "version": 3
   },
   "file_extension": ".py",
   "mimetype": "text/x-python",
   "name": "python",
   "nbconvert_exporter": "python",
   "pygments_lexer": "ipython3",
   "version": "3.8.5"
  },
  "toc": {
   "base_numbering": 1,
   "nav_menu": {},
   "number_sections": true,
   "sideBar": true,
   "skip_h1_title": false,
   "title_cell": "Table of Contents",
   "title_sidebar": "Contents",
   "toc_cell": false,
   "toc_position": {},
   "toc_section_display": true,
   "toc_window_display": true
  }
 },
 "nbformat": 4,
 "nbformat_minor": 4
}
